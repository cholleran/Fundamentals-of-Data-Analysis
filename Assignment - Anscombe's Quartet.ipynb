{
 "cells": [
  {
   "cell_type": "markdown",
   "metadata": {},
   "source": [
    "1. Explain the background to the dataset – who created it, when it was created, and any speculation you can ﬁnd regarding how it might have been created. \n",
    "\n",
    "2. Plot the interesting aspects of the dataset. \n",
    "\n",
    "3. Calculate the descriptive statistics of the variables in the dataset. \n",
    "\n",
    "4. Explain why the dataset is interesting, referring to the plots and statistics above.\n"
   ]
  },
  {
   "cell_type": "markdown",
   "metadata": {},
   "source": [
    "1 https://en.wikipedia.org/wiki/Anscombe%27s_quartet\n",
    "                                                                                2  https://faraday.physics.utoronto.ca/GeneralInterest/Harrison/Visualisation/Visualisation.html"
   ]
  },
  {
   "cell_type": "markdown",
   "metadata": {},
   "source": [
    "### 1.Explain the background to the dataset "
   ]
  },
  {
   "cell_type": "markdown",
   "metadata": {},
   "source": [
    "The datasets were created by F.W.Anscombe in the 1970's. It is remarkable because the numerical characteristics of all four datasets are strikingly similar, but when they are plotted they appear to be entirely different. There is some speculation that the dataset was created as an example that plotting data can actually be a more precise tool for understanding data than statistical formulae and calculations 1."
   ]
  },
  {
   "cell_type": "code",
   "execution_count": null,
   "metadata": {},
   "outputs": [],
   "source": []
  }
 ],
 "metadata": {
  "kernelspec": {
   "display_name": "Python 3",
   "language": "python",
   "name": "python3"
  },
  "language_info": {
   "codemirror_mode": {
    "name": "ipython",
    "version": 3
   },
   "file_extension": ".py",
   "mimetype": "text/x-python",
   "name": "python",
   "nbconvert_exporter": "python",
   "pygments_lexer": "ipython3",
   "version": "3.6.5"
  }
 },
 "nbformat": 4,
 "nbformat_minor": 2
}
